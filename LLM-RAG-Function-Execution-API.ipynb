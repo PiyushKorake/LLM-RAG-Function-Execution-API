{
 "cells": [
  {
   "cell_type": "markdown",
   "id": "61948840",
   "metadata": {},
   "source": [
    "# **Table of Contents**\n",
    "\n",
    "1. **Introduction**\n",
    "2. **Required Libraries**\n",
    "3. **Step 1: Function Registry**\n",
    "4. **Step 2: LLM + RAG for Function Retrieval**\n",
    "5. **Step 3: Dynamic Code Generation for Function Invocation**\n",
    "6. **Step 4: Maintain Context**\n",
    "7. **Step 5: API Service Implementation**\n",
    "8. **Bonus Enhancements (Optional)**"
   ]
  },
  {
   "cell_type": "markdown",
   "id": "e94d6e33",
   "metadata": {},
   "source": [
    "---\n",
    "\n",
    "# **Step 1: Introduction**\n",
    "\n",
    "In this notebook, we will build a Python-based API service that dynamically retrieves and executes automation functions. The core functionality will use LLM (Large Language Models) and RAG (Retrieval-Augmented Generation) to map user queries to predefined functions and then generate executable Python code for those functions. The notebook will guide you through creating a function registry, integrating LLM + RAG for function retrieval, dynamically generating code, maintaining context, and implementing an API service.\n",
    "\n",
    "---\n"
   ]
  },
  {
   "cell_type": "markdown",
   "id": "076ba99c",
   "metadata": {},
   "source": [
    "# **Step 2: Required Libraries**"
   ]
  },
  {
   "cell_type": "code",
   "execution_count": 1,
   "id": "8a6db810",
   "metadata": {},
   "outputs": [],
   "source": [
    "import warnings\n",
    "warnings.filterwarnings('ignore')"
   ]
  },
  {
   "cell_type": "code",
   "execution_count": 15,
   "id": "821190c3",
   "metadata": {},
   "outputs": [],
   "source": [
    "import warnings\n",
    "warnings.filterwarnings(\"ignore\", category=UserWarning, module='streamlit')"
   ]
  },
  {
   "cell_type": "code",
   "execution_count": 2,
   "id": "033c4f1d",
   "metadata": {},
   "outputs": [
    {
     "name": "stdout",
     "output_type": "stream",
     "text": [
      "Collecting en-core-web-md==3.8.0\n",
      "  Downloading https://github.com/explosion/spacy-models/releases/download/en_core_web_md-3.8.0/en_core_web_md-3.8.0-py3-none-any.whl (33.5 MB)\n",
      "     ---------------------------------------- 0.0/33.5 MB ? eta -:--:--\n",
      "     ---------------------------------------- 0.0/33.5 MB ? eta -:--:--\n",
      "     ---------------------------------------- 0.0/33.5 MB ? eta -:--:--\n",
      "     ---------------------------------------- 0.0/33.5 MB ? eta -:--:--\n",
      "     ---------------------------------------- 0.3/33.5 MB ? eta -:--:--\n",
      "      --------------------------------------- 0.5/33.5 MB 1.2 MB/s eta 0:00:28\n",
      "      --------------------------------------- 0.8/33.5 MB 1.2 MB/s eta 0:00:28\n",
      "     - -------------------------------------- 1.0/33.5 MB 1.2 MB/s eta 0:00:28\n",
      "     - -------------------------------------- 1.0/33.5 MB 1.2 MB/s eta 0:00:28\n",
      "     - -------------------------------------- 1.0/33.5 MB 1.2 MB/s eta 0:00:28\n",
      "     - -------------------------------------- 1.0/33.5 MB 1.2 MB/s eta 0:00:28\n",
      "     - ------------------------------------- 1.3/33.5 MB 729.2 kB/s eta 0:00:45\n",
      "     - ------------------------------------- 1.6/33.5 MB 723.0 kB/s eta 0:00:45\n",
      "     - ------------------------------------- 1.6/33.5 MB 723.0 kB/s eta 0:00:45\n",
      "     -- ------------------------------------ 2.1/33.5 MB 821.4 kB/s eta 0:00:39\n",
      "     -- ------------------------------------ 2.1/33.5 MB 821.4 kB/s eta 0:00:39\n",
      "     --- ----------------------------------- 2.6/33.5 MB 898.8 kB/s eta 0:00:35\n",
      "     --- ----------------------------------- 2.6/33.5 MB 898.8 kB/s eta 0:00:35\n",
      "     --- ----------------------------------- 2.9/33.5 MB 897.1 kB/s eta 0:00:35\n",
      "     --- ----------------------------------- 3.1/33.5 MB 918.0 kB/s eta 0:00:34\n",
      "     ---- ---------------------------------- 3.7/33.5 MB 982.4 kB/s eta 0:00:31\n",
      "     ---- ---------------------------------- 3.9/33.5 MB 999.5 kB/s eta 0:00:30\n",
      "     ----- ---------------------------------- 4.2/33.5 MB 1.0 MB/s eta 0:00:29\n",
      "     ----- ---------------------------------- 4.7/33.5 MB 1.1 MB/s eta 0:00:27\n",
      "     ----- ---------------------------------- 5.0/33.5 MB 1.1 MB/s eta 0:00:27\n",
      "     ------ --------------------------------- 5.2/33.5 MB 1.1 MB/s eta 0:00:26\n",
      "     ------ --------------------------------- 5.5/33.5 MB 1.1 MB/s eta 0:00:25\n",
      "     ------- -------------------------------- 6.0/33.5 MB 1.1 MB/s eta 0:00:24\n",
      "     ------- -------------------------------- 6.3/33.5 MB 1.2 MB/s eta 0:00:24\n",
      "     ------- -------------------------------- 6.6/33.5 MB 1.2 MB/s eta 0:00:24\n",
      "     -------- ------------------------------- 6.8/33.5 MB 1.1 MB/s eta 0:00:24\n",
      "     -------- ------------------------------- 7.1/33.5 MB 1.2 MB/s eta 0:00:23\n",
      "     -------- ------------------------------- 7.3/33.5 MB 1.2 MB/s eta 0:00:23\n",
      "     --------- ------------------------------ 7.6/33.5 MB 1.2 MB/s eta 0:00:22\n",
      "     --------- ------------------------------ 7.9/33.5 MB 1.2 MB/s eta 0:00:22\n",
      "     --------- ------------------------------ 7.9/33.5 MB 1.2 MB/s eta 0:00:22\n",
      "     --------- ------------------------------ 8.1/33.5 MB 1.1 MB/s eta 0:00:23\n",
      "     ---------- ----------------------------- 8.4/33.5 MB 1.1 MB/s eta 0:00:22\n",
      "     ---------- ----------------------------- 8.4/33.5 MB 1.1 MB/s eta 0:00:22\n",
      "     ---------- ----------------------------- 8.7/33.5 MB 1.1 MB/s eta 0:00:23\n",
      "     ---------- ----------------------------- 9.2/33.5 MB 1.1 MB/s eta 0:00:22\n",
      "     ---------- ----------------------------- 9.2/33.5 MB 1.1 MB/s eta 0:00:22\n",
      "     ----------- ---------------------------- 9.4/33.5 MB 1.1 MB/s eta 0:00:22\n",
      "     ----------- ---------------------------- 9.7/33.5 MB 1.1 MB/s eta 0:00:22\n",
      "     ------------ --------------------------- 10.2/33.5 MB 1.1 MB/s eta 0:00:21\n",
      "     ------------ --------------------------- 10.5/33.5 MB 1.1 MB/s eta 0:00:21\n",
      "     ------------ --------------------------- 10.7/33.5 MB 1.1 MB/s eta 0:00:20\n",
      "     ------------- -------------------------- 11.3/33.5 MB 1.2 MB/s eta 0:00:20\n",
      "     ------------- -------------------------- 11.5/33.5 MB 1.2 MB/s eta 0:00:19\n",
      "     -------------- ------------------------- 11.8/33.5 MB 1.2 MB/s eta 0:00:19\n",
      "     -------------- ------------------------- 12.1/33.5 MB 1.2 MB/s eta 0:00:19\n",
      "     -------------- ------------------------- 12.3/33.5 MB 1.2 MB/s eta 0:00:18\n",
      "     --------------- ------------------------ 12.8/33.5 MB 1.2 MB/s eta 0:00:18\n",
      "     --------------- ------------------------ 13.1/33.5 MB 1.2 MB/s eta 0:00:18\n",
      "     --------------- ------------------------ 13.1/33.5 MB 1.2 MB/s eta 0:00:18\n",
      "     ---------------- ----------------------- 13.6/33.5 MB 1.2 MB/s eta 0:00:17\n",
      "     ---------------- ----------------------- 13.9/33.5 MB 1.2 MB/s eta 0:00:17\n",
      "     ---------------- ----------------------- 14.2/33.5 MB 1.2 MB/s eta 0:00:17\n",
      "     ---------------- ----------------------- 14.2/33.5 MB 1.2 MB/s eta 0:00:17\n",
      "     ----------------- ---------------------- 14.4/33.5 MB 1.2 MB/s eta 0:00:17\n",
      "     ----------------- ---------------------- 14.7/33.5 MB 1.2 MB/s eta 0:00:16\n",
      "     ----------------- ---------------------- 14.7/33.5 MB 1.2 MB/s eta 0:00:16\n",
      "     ----------------- ---------------------- 14.9/33.5 MB 1.2 MB/s eta 0:00:16\n",
      "     ------------------ --------------------- 15.2/33.5 MB 1.2 MB/s eta 0:00:16\n",
      "     ------------------ --------------------- 15.5/33.5 MB 1.2 MB/s eta 0:00:16\n",
      "     ------------------ --------------------- 15.5/33.5 MB 1.2 MB/s eta 0:00:16\n",
      "     ------------------ --------------------- 15.7/33.5 MB 1.1 MB/s eta 0:00:16\n",
      "     ------------------- -------------------- 16.0/33.5 MB 1.1 MB/s eta 0:00:16\n",
      "     ------------------- -------------------- 16.3/33.5 MB 1.1 MB/s eta 0:00:16\n",
      "     ------------------- -------------------- 16.3/33.5 MB 1.1 MB/s eta 0:00:16\n",
      "     ------------------- -------------------- 16.3/33.5 MB 1.1 MB/s eta 0:00:16\n",
      "     ------------------- -------------------- 16.3/33.5 MB 1.1 MB/s eta 0:00:16\n",
      "     ------------------- -------------------- 16.5/33.5 MB 1.1 MB/s eta 0:00:16\n",
      "     ------------------- -------------------- 16.5/33.5 MB 1.1 MB/s eta 0:00:16\n",
      "     -------------------- ------------------- 16.8/33.5 MB 1.1 MB/s eta 0:00:16\n",
      "     -------------------- ------------------- 16.8/33.5 MB 1.1 MB/s eta 0:00:16\n",
      "     -------------------- ------------------- 17.0/33.5 MB 1.1 MB/s eta 0:00:16\n",
      "     -------------------- ------------------- 17.0/33.5 MB 1.1 MB/s eta 0:00:16\n",
      "     -------------------- ------------------- 17.3/33.5 MB 1.1 MB/s eta 0:00:16\n",
      "     -------------------- ------------------- 17.6/33.5 MB 1.1 MB/s eta 0:00:16\n",
      "     --------------------- ------------------ 17.8/33.5 MB 1.1 MB/s eta 0:00:15\n",
      "     --------------------- ------------------ 18.1/33.5 MB 1.1 MB/s eta 0:00:15\n",
      "     --------------------- ------------------ 18.1/33.5 MB 1.1 MB/s eta 0:00:15\n",
      "     --------------------- ------------------ 18.1/33.5 MB 1.1 MB/s eta 0:00:15\n",
      "     --------------------- ------------------ 18.1/33.5 MB 1.1 MB/s eta 0:00:15\n",
      "     --------------------- ------------------ 18.1/33.5 MB 1.1 MB/s eta 0:00:15\n",
      "     --------------------- ------------------ 18.4/33.5 MB 1.0 MB/s eta 0:00:15\n",
      "     --------------------- ------------------ 18.4/33.5 MB 1.0 MB/s eta 0:00:15\n",
      "     --------------------- ------------------ 18.4/33.5 MB 1.0 MB/s eta 0:00:15\n",
      "     --------------------- ---------------- 18.6/33.5 MB 990.2 kB/s eta 0:00:16\n",
      "     --------------------- ---------------- 18.9/33.5 MB 988.5 kB/s eta 0:00:15\n",
      "     --------------------- ---------------- 19.1/33.5 MB 995.0 kB/s eta 0:00:15\n",
      "     ---------------------- --------------- 19.4/33.5 MB 990.9 kB/s eta 0:00:15\n",
      "     ---------------------- --------------- 19.4/33.5 MB 990.9 kB/s eta 0:00:15\n",
      "     ---------------------- --------------- 19.7/33.5 MB 987.7 kB/s eta 0:00:14\n",
      "     ---------------------- --------------- 19.9/33.5 MB 989.2 kB/s eta 0:00:14\n",
      "     ---------------------- --------------- 20.2/33.5 MB 992.3 kB/s eta 0:00:14\n",
      "     ----------------------- -------------- 20.4/33.5 MB 994.5 kB/s eta 0:00:14\n",
      "     ----------------------- -------------- 20.7/33.5 MB 992.9 kB/s eta 0:00:13\n",
      "     ----------------------- -------------- 21.0/33.5 MB 991.3 kB/s eta 0:00:13\n",
      "     ------------------------ ------------- 21.2/33.5 MB 992.7 kB/s eta 0:00:13\n",
      "     ------------------------ ------------- 21.2/33.5 MB 992.7 kB/s eta 0:00:13\n",
      "     ------------------------ ------------- 21.8/33.5 MB 996.2 kB/s eta 0:00:12\n",
      "     ------------------------ ------------- 21.8/33.5 MB 996.2 kB/s eta 0:00:12\n",
      "     ------------------------ ------------- 21.8/33.5 MB 996.2 kB/s eta 0:00:12\n",
      "     ------------------------ ------------- 22.0/33.5 MB 986.2 kB/s eta 0:00:12\n",
      "     ------------------------ ------------- 22.0/33.5 MB 986.2 kB/s eta 0:00:12\n",
      "     ------------------------ ------------- 22.0/33.5 MB 986.2 kB/s eta 0:00:12\n",
      "     ------------------------ ------------- 22.0/33.5 MB 986.2 kB/s eta 0:00:12\n",
      "     ------------------------- ------------ 22.3/33.5 MB 958.1 kB/s eta 0:00:12\n",
      "     ------------------------- ------------ 22.5/33.5 MB 962.3 kB/s eta 0:00:12\n",
      "     ------------------------- ------------ 22.5/33.5 MB 962.3 kB/s eta 0:00:12\n",
      "     ------------------------- ------------ 22.5/33.5 MB 962.3 kB/s eta 0:00:12\n",
      "     ------------------------- ------------ 22.5/33.5 MB 962.3 kB/s eta 0:00:12\n",
      "     ------------------------- ------------ 22.8/33.5 MB 930.3 kB/s eta 0:00:12\n",
      "     -------------------------- ----------- 23.1/33.5 MB 932.7 kB/s eta 0:00:12\n",
      "     -------------------------- ----------- 23.3/33.5 MB 937.4 kB/s eta 0:00:11\n",
      "     -------------------------- ----------- 23.3/33.5 MB 937.4 kB/s eta 0:00:11\n",
      "     -------------------------- ----------- 23.6/33.5 MB 936.2 kB/s eta 0:00:11\n",
      "     --------------------------- ---------- 23.9/33.5 MB 935.5 kB/s eta 0:00:11\n",
      "     --------------------------- ---------- 24.1/33.5 MB 935.5 kB/s eta 0:00:11\n",
      "     --------------------------- ---------- 24.1/33.5 MB 935.5 kB/s eta 0:00:11\n",
      "     --------------------------- ---------- 24.1/33.5 MB 935.5 kB/s eta 0:00:11\n",
      "     --------------------------- ---------- 24.4/33.5 MB 922.1 kB/s eta 0:00:10\n",
      "     --------------------------- ---------- 24.4/33.5 MB 922.1 kB/s eta 0:00:10\n",
      "     --------------------------- ---------- 24.4/33.5 MB 922.1 kB/s eta 0:00:10\n",
      "     --------------------------- ---------- 24.6/33.5 MB 907.1 kB/s eta 0:00:10\n",
      "     --------------------------- ---------- 24.6/33.5 MB 907.1 kB/s eta 0:00:10\n",
      "     --------------------------- ---------- 24.6/33.5 MB 907.1 kB/s eta 0:00:10\n",
      "     --------------------------- ---------- 24.6/33.5 MB 907.1 kB/s eta 0:00:10\n",
      "     ---------------------------- --------- 24.9/33.5 MB 891.5 kB/s eta 0:00:10\n",
      "     ---------------------------- --------- 24.9/33.5 MB 891.5 kB/s eta 0:00:10\n",
      "     ---------------------------- --------- 24.9/33.5 MB 891.5 kB/s eta 0:00:10\n",
      "     ---------------------------- --------- 24.9/33.5 MB 891.5 kB/s eta 0:00:10\n",
      "     ---------------------------- --------- 24.9/33.5 MB 891.5 kB/s eta 0:00:10\n",
      "     ---------------------------- --------- 24.9/33.5 MB 891.5 kB/s eta 0:00:10\n",
      "     ---------------------------- --------- 24.9/33.5 MB 891.5 kB/s eta 0:00:10\n",
      "     ---------------------------- --------- 24.9/33.5 MB 891.5 kB/s eta 0:00:10\n",
      "     ---------------------------- --------- 25.4/33.5 MB 852.2 kB/s eta 0:00:10\n",
      "     ---------------------------- --------- 25.4/33.5 MB 852.2 kB/s eta 0:00:10\n",
      "     ----------------------------- -------- 25.7/33.5 MB 851.6 kB/s eta 0:00:10\n",
      "     ----------------------------- -------- 26.0/33.5 MB 848.5 kB/s eta 0:00:09\n",
      "     ----------------------------- -------- 26.2/33.5 MB 848.5 kB/s eta 0:00:09\n",
      "     ----------------------------- -------- 26.2/33.5 MB 848.5 kB/s eta 0:00:09\n",
      "     ------------------------------ ------- 26.5/33.5 MB 859.0 kB/s eta 0:00:09\n",
      "     ------------------------------ ------- 26.7/33.5 MB 857.4 kB/s eta 0:00:08\n",
      "     ------------------------------ ------- 27.0/33.5 MB 861.3 kB/s eta 0:00:08\n",
      "     ------------------------------ ------- 27.3/33.5 MB 864.5 kB/s eta 0:00:08\n",
      "     ------------------------------- ------ 27.5/33.5 MB 868.3 kB/s eta 0:00:07\n",
      "     ------------------------------- ------ 27.8/33.5 MB 869.2 kB/s eta 0:00:07\n",
      "     ------------------------------- ------ 28.0/33.5 MB 870.0 kB/s eta 0:00:07\n",
      "     -------------------------------- ----- 28.3/33.5 MB 872.3 kB/s eta 0:00:06\n",
      "     -------------------------------- ----- 28.6/33.5 MB 874.2 kB/s eta 0:00:06\n",
      "     -------------------------------- ----- 28.8/33.5 MB 871.9 kB/s eta 0:00:06\n",
      "     --------------------------------- ---- 29.4/33.5 MB 876.6 kB/s eta 0:00:05\n",
      "     --------------------------------- ---- 29.6/33.5 MB 875.2 kB/s eta 0:00:05\n",
      "     --------------------------------- ---- 29.9/33.5 MB 875.2 kB/s eta 0:00:05\n",
      "     ---------------------------------- --- 30.1/33.5 MB 875.2 kB/s eta 0:00:04\n",
      "     ---------------------------------- --- 30.4/33.5 MB 875.2 kB/s eta 0:00:04\n",
      "     ---------------------------------- --- 30.7/33.5 MB 875.2 kB/s eta 0:00:04\n",
      "     ----------------------------------- -- 31.2/33.5 MB 874.7 kB/s eta 0:00:03\n",
      "     ----------------------------------- -- 31.2/33.5 MB 874.7 kB/s eta 0:00:03\n",
      "     ----------------------------------- -- 31.5/33.5 MB 860.8 kB/s eta 0:00:03\n",
      "     ------------------------------------ - 31.7/33.5 MB 856.3 kB/s eta 0:00:03\n",
      "     ------------------------------------ - 32.0/33.5 MB 857.7 kB/s eta 0:00:02\n",
      "     ------------------------------------ - 32.0/33.5 MB 857.7 kB/s eta 0:00:02\n",
      "     ------------------------------------ - 32.2/33.5 MB 852.9 kB/s eta 0:00:02\n",
      "     ------------------------------------ - 32.5/33.5 MB 850.2 kB/s eta 0:00:02\n",
      "     -------------------------------------  33.0/33.5 MB 850.7 kB/s eta 0:00:01\n",
      "     -------------------------------------  33.3/33.5 MB 850.7 kB/s eta 0:00:01\n",
      "     -------------------------------------  33.3/33.5 MB 850.7 kB/s eta 0:00:01\n",
      "     -------------------------------------- 33.5/33.5 MB 854.0 kB/s eta 0:00:00\n",
      "\u001b[38;5;2m[+] Download and installation successful\u001b[0m\n",
      "You can now load the package via spacy.load('en_core_web_md')\n"
     ]
    },
    {
     "name": "stderr",
     "output_type": "stream",
     "text": [
      "\n",
      "[notice] A new release of pip is available: 24.3.1 -> 25.0.1\n",
      "[notice] To update, run: python.exe -m pip install --upgrade pip\n"
     ]
    }
   ],
   "source": [
    "!python -m spacy download en_core_web_md"
   ]
  },
  {
   "cell_type": "code",
   "execution_count": 3,
   "id": "f98b4d9e",
   "metadata": {},
   "outputs": [],
   "source": [
    "import spacy\n",
    "\n",
    "# Load pre-trained spaCy model\n",
    "nlp = spacy.load('en_core_web_md')"
   ]
  },
  {
   "cell_type": "code",
   "execution_count": 4,
   "id": "ad495021",
   "metadata": {},
   "outputs": [
    {
     "name": "stdout",
     "output_type": "stream",
     "text": [
      "WARNING:tensorflow:From C:\\Users\\piyus\\anaconda3\\Lib\\site-packages\\keras\\src\\losses.py:2976: The name tf.losses.sparse_softmax_cross_entropy is deprecated. Please use tf.compat.v1.losses.sparse_softmax_cross_entropy instead.\n",
      "\n"
     ]
    }
   ],
   "source": [
    "# Importing necessary libraries\n",
    "import os\n",
    "import webbrowser\n",
    "import faiss\n",
    "import torch\n",
    "from transformers import BertTokenizer, BertModel\n",
    "import spacy\n",
    "import numpy as np\n",
    "from fastapi import FastAPI\n",
    "from pydantic import BaseModel\n",
    "import json\n",
    "\n",
    "# Load pre-trained model and tokenizer for Hugging Face Transformers\n",
    "tokenizer = BertTokenizer.from_pretrained('bert-base-uncased')\n",
    "model = BertModel.from_pretrained('bert-base-uncased')\n",
    "\n",
    "# Load pre-trained spaCy model\n",
    "nlp = spacy.load('en_core_web_md')\n",
    "\n",
    "# Function to get embeddings using Hugging Face\n",
    "def get_embedding_huggingface(text):\n",
    "    inputs = tokenizer(text, return_tensors=\"pt\")\n",
    "    with torch.no_grad():\n",
    "        outputs = model(**inputs)\n",
    "    return outputs.last_hidden_state.mean(dim=1).squeeze().numpy()\n",
    "\n",
    "# Function to get embeddings using spaCy\n",
    "def get_embedding_spacy(text):\n",
    "    doc = nlp(text)\n",
    "    return doc.vector\n"
   ]
  },
  {
   "cell_type": "markdown",
   "id": "aec23e6c",
   "metadata": {},
   "source": [
    "# **Step 3: Function Registry**\n",
    "\n",
    "The first part of the task involves creating a registry of common automation functions. These functions can open applications, retrieve system information, or execute commands.\n",
    "\n",
    "We will create functions for tasks such as:\n",
    "\n",
    "- Opening Google Chrome\n",
    "- Opening Calculator\n",
    "- Opening Notepad\n",
    "- Retrieving CPU usage\n",
    "- Retrieving RAM usage\n",
    "- Executing shell commands\n",
    "\n",
    "These functions will be stored in a dictionary called `function_registry` to allow easy and dynamic access. By using this registry, we can map user requests to these predefined functions and execute them based on the query.\n",
    "\n",
    "### **Theory**:\n",
    "\n",
    "1. **Function Definition**: We define Python functions to carry out tasks like opening apps or monitoring system performance.\n",
    "2. **Registry Setup**: Functions are mapped to string keys (e.g., \"open_chrome\"), and stored in a dictionary. This enables quick retrieval of functions based on user input.\n",
    "3. **Function Invocation**: The system can dynamically invoke functions by referencing the dictionary.\n",
    "\n",
    "Now, let's implement the function registry in Python."
   ]
  },
  {
   "cell_type": "code",
   "execution_count": 5,
   "id": "b91c1167",
   "metadata": {},
   "outputs": [],
   "source": [
    "# Function Registry\n",
    "\n",
    "def open_chrome():\n",
    "    webbrowser.open(\"https://www.google.com\")\n",
    "\n",
    "def open_calculator():\n",
    "    os.system(\"calc\")\n",
    "\n",
    "def open_notepad():\n",
    "    os.system(\"notepad\")\n",
    "\n",
    "def get_cpu_usage():\n",
    "    return os.popen(\"wmic cpu get loadpercentage\").read()\n",
    "\n",
    "def get_ram_usage():\n",
    "    return os.popen(\"wmic OS get FreePhysicalMemory,TotalVisibleMemorySize /Value\").read()\n",
    "\n",
    "def execute_command(command):\n",
    "    return os.popen(command).read()\n",
    "\n",
    "# Dictionary to store functions by name for easy reference\n",
    "function_registry = {\n",
    "    \"open_chrome\": open_chrome,\n",
    "    \"open_calculator\": open_calculator,\n",
    "    \"open_notepad\": open_notepad,\n",
    "    \"get_cpu_usage\": get_cpu_usage,\n",
    "    \"get_ram_usage\": get_ram_usage,\n",
    "    \"execute_command\": execute_command\n",
    "}"
   ]
  },
  {
   "cell_type": "markdown",
   "id": "dc77b1cd",
   "metadata": {},
   "source": [
    "# **Step 4: LLM + RAG for Function Retrieval**\n",
    "\n",
    "In this step, we will integrate a **Large Language Model (LLM)** and **Retrieval-Augmented Generation (RAG)** to retrieve the best matching function from the registry based on user input.\n",
    "\n",
    "### **Theory**:\n",
    "\n",
    "1. **Vector Embeddings**: We use a pre-trained LLM to convert user queries into vector embeddings. The model encodes the query into a dense vector representation, which is then compared with the vectors of predefined functions stored in a vector database.\n",
    "   \n",
    "2. **Vector Search**: We will use a vector search technique (such as FAISS or ChromaDB) to store function metadata (such as function names and descriptions) as vectors. By converting both user queries and function metadata into embeddings, we can search for the most relevant function based on cosine similarity between their vector representations.\n",
    "\n",
    "3. **Query Handling**: The system will dynamically retrieve the most relevant function from the function registry and generate the corresponding executable Python code.\n",
    "\n",
    "Now, let's implement the LLM + RAG for function retrieval using a pre-trained sentence transformer model to encode the user query and function metadata.\n"
   ]
  },
  {
   "cell_type": "code",
   "execution_count": 7,
   "id": "f82a565e",
   "metadata": {},
   "outputs": [
    {
     "data": {
      "application/vnd.jupyter.widget-view+json": {
       "model_id": "1d9617261abf4fbb99f754ed37fcd997",
       "version_major": 2,
       "version_minor": 0
      },
      "text/plain": [
       "modules.json:   0%|          | 0.00/349 [00:00<?, ?B/s]"
      ]
     },
     "metadata": {},
     "output_type": "display_data"
    },
    {
     "data": {
      "application/vnd.jupyter.widget-view+json": {
       "model_id": "9667e08277824121abfb53648f1493cc",
       "version_major": 2,
       "version_minor": 0
      },
      "text/plain": [
       "config_sentence_transformers.json:   0%|          | 0.00/116 [00:00<?, ?B/s]"
      ]
     },
     "metadata": {},
     "output_type": "display_data"
    },
    {
     "data": {
      "application/vnd.jupyter.widget-view+json": {
       "model_id": "8bbbe5c68f424455b8b173930f169ba4",
       "version_major": 2,
       "version_minor": 0
      },
      "text/plain": [
       "README.md:   0%|          | 0.00/10.5k [00:00<?, ?B/s]"
      ]
     },
     "metadata": {},
     "output_type": "display_data"
    },
    {
     "data": {
      "application/vnd.jupyter.widget-view+json": {
       "model_id": "1dc004e9c4044d8d9cb29785b6eb434b",
       "version_major": 2,
       "version_minor": 0
      },
      "text/plain": [
       "sentence_bert_config.json:   0%|          | 0.00/53.0 [00:00<?, ?B/s]"
      ]
     },
     "metadata": {},
     "output_type": "display_data"
    },
    {
     "data": {
      "application/vnd.jupyter.widget-view+json": {
       "model_id": "f358def8ca4e4a2384cccd99f77276de",
       "version_major": 2,
       "version_minor": 0
      },
      "text/plain": [
       "config.json:   0%|          | 0.00/612 [00:00<?, ?B/s]"
      ]
     },
     "metadata": {},
     "output_type": "display_data"
    },
    {
     "data": {
      "application/vnd.jupyter.widget-view+json": {
       "model_id": "a0ba8e4b1cb24bfcb2cf53438d40b1d6",
       "version_major": 2,
       "version_minor": 0
      },
      "text/plain": [
       "model.safetensors:   0%|          | 0.00/90.9M [00:00<?, ?B/s]"
      ]
     },
     "metadata": {},
     "output_type": "display_data"
    },
    {
     "data": {
      "application/vnd.jupyter.widget-view+json": {
       "model_id": "406f8832345f4663aad56085f04edfd7",
       "version_major": 2,
       "version_minor": 0
      },
      "text/plain": [
       "tokenizer_config.json:   0%|          | 0.00/350 [00:00<?, ?B/s]"
      ]
     },
     "metadata": {},
     "output_type": "display_data"
    },
    {
     "data": {
      "application/vnd.jupyter.widget-view+json": {
       "model_id": "cc633aead86d4544adfd8991adabe328",
       "version_major": 2,
       "version_minor": 0
      },
      "text/plain": [
       "vocab.txt:   0%|          | 0.00/232k [00:00<?, ?B/s]"
      ]
     },
     "metadata": {},
     "output_type": "display_data"
    },
    {
     "data": {
      "application/vnd.jupyter.widget-view+json": {
       "model_id": "214dfa742fd744fbb8d25261a48ab2b2",
       "version_major": 2,
       "version_minor": 0
      },
      "text/plain": [
       "tokenizer.json:   0%|          | 0.00/466k [00:00<?, ?B/s]"
      ]
     },
     "metadata": {},
     "output_type": "display_data"
    },
    {
     "data": {
      "application/vnd.jupyter.widget-view+json": {
       "model_id": "8ad6bdc537e24249ac4accb0de881b72",
       "version_major": 2,
       "version_minor": 0
      },
      "text/plain": [
       "special_tokens_map.json:   0%|          | 0.00/112 [00:00<?, ?B/s]"
      ]
     },
     "metadata": {},
     "output_type": "display_data"
    },
    {
     "data": {
      "application/vnd.jupyter.widget-view+json": {
       "model_id": "474f8e37285a45acb0203f3911978cc8",
       "version_major": 2,
       "version_minor": 0
      },
      "text/plain": [
       "config.json:   0%|          | 0.00/190 [00:00<?, ?B/s]"
      ]
     },
     "metadata": {},
     "output_type": "display_data"
    }
   ],
   "source": [
    "# Import the necessary library\n",
    "from sentence_transformers import SentenceTransformer\n",
    "import numpy as np\n",
    "\n",
    "# Load Sentence Transformer model\n",
    "model = SentenceTransformer('all-MiniLM-L6-v2')\n",
    "\n",
    "# Function metadata: Example descriptions of functions stored in a list\n",
    "function_metadata = {\n",
    "    \"open_chrome\": \"Opens Google Chrome browser\",\n",
    "    \"open_calculator\": \"Opens the Calculator application\",\n",
    "    \"open_notepad\": \"Opens the Notepad application\",\n",
    "    \"get_cpu_usage\": \"Retrieves the current CPU usage percentage\",\n",
    "    \"get_ram_usage\": \"Retrieves the current RAM usage\",\n",
    "    \"execute_command\": \"Executes a shell command\"\n",
    "}\n",
    "\n",
    "# Create embeddings for the function metadata\n",
    "function_embeddings = {func: model.encode(description) for func, description in function_metadata.items()}\n",
    "\n",
    "# Function to encode user query and find the best matching function\n",
    "def find_best_matching_function(query):\n",
    "    query_embedding = model.encode(query)\n",
    "    \n",
    "    # Calculate cosine similarity with function embeddings\n",
    "    similarities = {func: np.dot(query_embedding, embedding) / (np.linalg.norm(query_embedding) * np.linalg.norm(embedding))\n",
    "                    for func, embedding in function_embeddings.items()}\n",
    "    \n",
    "    # Find the function with the highest similarity score\n",
    "    best_function = max(similarities, key=similarities.get)\n",
    "    return best_function, function_registry[best_function]\n"
   ]
  },
  {
   "cell_type": "markdown",
   "id": "a20a5b9f",
   "metadata": {},
   "source": [
    "### **Explanation of the Code**:\n",
    "\n",
    "1. **Importing the SentenceTransformer**: \n",
    "   We import the `SentenceTransformer` class from the `sentence_transformers` library to load a pre-trained model that can encode sentences into vector representations (embeddings).\n",
    "\n",
    "2. **Loading the Pre-trained Model**: \n",
    "   We use the `SentenceTransformer('all-MiniLM-L6-v2')` model, which is a lightweight transformer model trained to generate high-quality sentence embeddings.\n",
    "\n",
    "3. **Function Metadata**: \n",
    "   A dictionary, `function_metadata`, is created where each function name (e.g., `open_chrome`) is mapped to a short description of the function's task (e.g., \"Opens Google Chrome browser\").\n",
    "\n",
    "4. **Generating Embeddings**:\n",
    "   For each function description in the `function_metadata`, we generate an embedding (vector representation) using the pre-trained model. This is stored in the `function_embeddings` dictionary.\n",
    "\n",
    "5. **Function to Find Best Matching Function**:\n",
    "   - We encode the user query into an embedding using the same model.\n",
    "   - We compute the cosine similarity between the user query's embedding and each function's embedding.\n",
    "   - The function with the highest similarity score is selected as the best match.\n",
    "   - The corresponding function from the `function_registry` is returned for execution.\n",
    "\n",
    "This process allows the system to dynamically retrieve the most relevant function based on the user's input.\n"
   ]
  },
  {
   "cell_type": "markdown",
   "id": "d9ca573e",
   "metadata": {},
   "source": [
    "# **Step 5: Dynamic Code Generation for Function Invocation**\n",
    "\n",
    "In this step, we will dynamically generate executable Python code based on the function retrieved from the LLM + RAG system.\n",
    "\n",
    "### **Theory**:\n",
    "\n",
    "1. **Code Generation**: \n",
    "   Once we have the relevant function from the function registry, we will generate a Python script to invoke that function. The generated script will include the necessary imports, the function call, and proper error handling.\n",
    "\n",
    "2. **Dynamic Script Creation**: \n",
    "   We will use Python's string formatting or f-strings to construct a Python script that includes the required imports, executes the chosen function, and handles potential exceptions.\n",
    "\n",
    "3. **Error Handling**: \n",
    "   We will ensure that the generated code includes a `try-except` block to catch and handle any errors that might occur during the function execution.\n",
    "\n",
    "Now, let's implement the dynamic code generation for the function invocation."
   ]
  },
  {
   "cell_type": "code",
   "execution_count": 10,
   "id": "6abceaeb",
   "metadata": {},
   "outputs": [],
   "source": [
    "# Function to generate Python code for function invocation\n",
    "def generate_code_for_function(function_name):\n",
    "    # The base import statement for the function\n",
    "    import_statement = \"from automation_functions import \" + function_name\n",
    "    \n",
    "    # The dynamic code generation for the function invocation\n",
    "    code = f\"\"\"\n",
    "{import_statement}\n",
    "\n",
    "def main():\n",
    "    try:\n",
    "        {function_name}()\n",
    "        print(\"{function_name} executed successfully.\")\n",
    "    except Exception as e:\n",
    "        print(f\"Error executing {function_name}: {{e}}\")\n",
    "\n",
    "if __name__ == \"__main__\":\n",
    "    main()\n",
    "\"\"\"\n",
    "    return code\n"
   ]
  },
  {
   "cell_type": "markdown",
   "id": "e1e7ec15",
   "metadata": {},
   "source": [
    "### **Explanation of the Code**:\n",
    "\n",
    "1. **Import Statement Generation**: \n",
    "   We dynamically create the import statement for the given function. This is done by concatenating the function name with the string `\"from automation_functions import \"`. This allows us to import the correct function based on the query received.\n",
    "\n",
    "2. **Dynamic Code Creation**: \n",
    "   Using Python's f-string formatting, we construct a Python script that:\n",
    "   - **Imports the Function**: The generated script begins by importing the required function using the import statement created earlier.\n",
    "   - **Defines the `main()` Function**: Inside the `main()` function, we call the function dynamically using its name. We wrap this in a `try-except` block to ensure that any errors during function execution are handled gracefully.\n",
    "   - **Error Handling**: If an error occurs while invoking the function, it is caught in the `except` block, and a message is printed indicating which function failed and the nature of the error.\n",
    "\n",
    "3. **Structure of the Generated Code**: \n",
    "   The script is structured as a standalone Python program. When executed, it will import the function, attempt to run it, and print either a success or error message.\n",
    "\n",
    "This dynamic code generation allows us to automate the process of creating executable scripts for any function retrieved by the system."
   ]
  },
  {
   "cell_type": "markdown",
   "id": "8deb7f56",
   "metadata": {},
   "source": [
    "# **Step 6: API Service Implementation**\n",
    "\n",
    "In this step, we will implement the API service that exposes an endpoint to handle user requests. The service will receive a user query via a POST request, retrieve the relevant function, generate the Python code, and return it as a response.\n",
    "\n",
    "### **Theory**:\n",
    "\n",
    "1. **API Framework**: \n",
    "   We will use **FastAPI**, a modern web framework for building APIs, which provides automatic generation of OpenAPI documentation and is very easy to work with.\n",
    "\n",
    "2. **Request Handling**: \n",
    "   The API will have an endpoint (`/execute`) that accepts POST requests. The body of the request will contain a JSON object with a `prompt` key, which will hold the user query.\n",
    "\n",
    "3. **Response**: \n",
    "   After retrieving the relevant function and generating the code, the API will return a JSON response containing the function name and the generated code.\n",
    "\n",
    "4. **API Service Structure**: \n",
    "   - The request will trigger the process of encoding the query, retrieving the relevant function, and generating the corresponding code.\n",
    "   - The response will contain the function name and the Python code for invocation.\n",
    "\n",
    "Now, let's implement the FastAPI service.\n"
   ]
  },
  {
   "cell_type": "code",
   "execution_count": 11,
   "id": "c3959703",
   "metadata": {},
   "outputs": [],
   "source": [
    "# Import FastAPI and other necessary modules\n",
    "from fastapi import FastAPI\n",
    "from pydantic import BaseModel\n",
    "import json\n",
    "\n",
    "# Initialize FastAPI app\n",
    "app = FastAPI()\n",
    "\n",
    "# Create a Pydantic model for request data\n",
    "class QueryRequest(BaseModel):\n",
    "    prompt: str\n",
    "\n",
    "# Endpoint to execute user queries and generate code\n",
    "@app.post(\"/execute\")\n",
    "async def execute_query(query_request: QueryRequest):\n",
    "    # Extract the user query from the request\n",
    "    user_query = query_request.prompt\n",
    "    \n",
    "    # Find the best matching function based on the query\n",
    "    best_function, function = find_best_matching_function(user_query)\n",
    "    \n",
    "    # Generate the Python code for function invocation\n",
    "    generated_code = generate_code_for_function(best_function)\n",
    "    \n",
    "    # Return the response with the function name and generated code\n",
    "    return {\"function\": best_function, \"code\": generated_code}\n"
   ]
  },
  {
   "cell_type": "markdown",
   "id": "2fef174c",
   "metadata": {},
   "source": [
    "### **Explanation of the Code**:\n",
    "\n",
    "1. **FastAPI Setup**:\n",
    "   - We begin by importing the `FastAPI` class and initializing the app (`app = FastAPI()`). FastAPI will manage the web server and handle HTTP requests for our API.\n",
    "   \n",
    "2. **Pydantic Model**:\n",
    "   - We define a `QueryRequest` class using `pydantic.BaseModel`. This class specifies the structure of the expected JSON request body. It expects a key called `prompt`, which will hold the user’s query.\n",
    "   - **Why Pydantic?**: Pydantic models help validate the incoming request data and automatically convert it to the correct format, making our code cleaner and more reliable.\n",
    "\n",
    "3. **API Endpoint**:\n",
    "   - The `@app.post(\"/execute\")` decorator defines a POST endpoint `/execute` that listens for requests.\n",
    "   - **`execute_query` function**: This function is triggered when a POST request is made to `/execute`. It accepts a `QueryRequest` object (which contains the user query in the `prompt` field).\n",
    "     - First, we extract the user query (`user_query = query_request.prompt`).\n",
    "     - We then pass the query to the `find_best_matching_function` function, which returns the most relevant function and the corresponding implementation from the registry.\n",
    "     - Next, we generate the Python code for invoking the selected function using `generate_code_for_function(best_function)`.\n",
    "     - Finally, we return a JSON response that contains the function name and the dynamically generated Python code.\n",
    "\n",
    "4. **Asynchronous Handling**:\n",
    "   - We use the `async` keyword with the `execute_query` function, making it an asynchronous function. This allows FastAPI to handle multiple requests efficiently without blocking the server.\n",
    "   - **Why Async?**: Asynchronous functions improve performance, especially when the server is handling multiple requests, by allowing the server to perform other tasks while waiting for one request to complete.\n",
    "\n",
    "This FastAPI service allows users to send a query, retrieve the appropriate function, and get the corresponding Python code for execution—all in a structured and efficient way.\n"
   ]
  },
  {
   "cell_type": "markdown",
   "id": "05955193",
   "metadata": {},
   "source": [
    "# **Bonus Enhancements (Optional)**\n",
    "\n",
    "In this step, we will implement additional features to enhance the system. These include logging, monitoring, and supporting custom user-defined functions.\n",
    "\n",
    "### **Theory**:\n",
    "\n",
    "1. **Logging**: \n",
    "   We will add logging to the system to track the function execution process, including any errors or issues that arise. This will help in debugging and maintaining the system.\n",
    "   \n",
    "2. **Monitoring**: \n",
    "   We will implement monitoring to track function usage, execution times, and performance metrics, ensuring the system is running efficiently and is scalable.\n",
    "\n",
    "3. **Support for Custom User-Defined Functions**: \n",
    "   We will extend the system to allow users to define their own functions through the API. Users can submit new functions, which will be stored in the function registry and made available for execution.\n",
    "\n",
    "Now, let's implement the logging and monitoring features, followed by supporting custom user-defined functions.\n"
   ]
  },
  {
   "cell_type": "code",
   "execution_count": 12,
   "id": "f498d6f5",
   "metadata": {},
   "outputs": [],
   "source": [
    "import logging\n",
    "from typing import Optional\n",
    "\n",
    "# Set up basic logging\n",
    "logging.basicConfig(level=logging.INFO, format=\"%(asctime)s - %(levelname)s - %(message)s\")\n",
    "\n",
    "# Function to log function execution\n",
    "def log_function_execution(function_name: str, status: str, error_message: Optional[str] = None):\n",
    "    if status == \"success\":\n",
    "        logging.info(f\"Function {function_name} executed successfully.\")\n",
    "    else:\n",
    "        logging.error(f\"Function {function_name} failed with error: {error_message}\")\n",
    "\n",
    "# Endpoint to add custom user-defined functions\n",
    "@app.post(\"/add_function\")\n",
    "async def add_user_function(function_name: str, function_code: str):\n",
    "    try:\n",
    "        # Save the user-defined function code\n",
    "        exec(function_code)\n",
    "        function_registry[function_name] = eval(function_name)\n",
    "        logging.info(f\"Function {function_name} added successfully.\")\n",
    "        return {\"message\": f\"Function {function_name} added successfully.\"}\n",
    "    except Exception as e:\n",
    "        logging.error(f\"Error adding function {function_name}: {e}\")\n",
    "        return {\"message\": f\"Error adding function {function_name}: {str(e)}\"}\n"
   ]
  },
  {
   "cell_type": "markdown",
   "id": "fe9a1553",
   "metadata": {},
   "source": [
    "### **Explanation of the Code**:\n",
    "\n",
    "1. **Logging**:\n",
    "   - We set up logging using `logging.basicConfig()` to capture events with timestamps and log levels (INFO for success, ERROR for failure).\n",
    "   - The `log_function_execution` function logs the status of a function execution, recording whether it was successful or failed. If failed, the error message is logged.\n",
    "\n",
    "2. **Custom User-Defined Functions**:\n",
    "   - We added an endpoint `/add_function` that accepts a `function_name` and `function_code` (Python code) as input.\n",
    "   - The `exec()` function is used to dynamically execute and add the custom function to the `function_registry`. This makes the new function available for future execution.\n",
    "   - If the function is added successfully, a success message is logged; if there’s an error, it’s logged as an ERROR.\n",
    "\n",
    "3. **Why These Enhancements**:\n",
    "   - **Logging** helps track function execution and error handling, which is useful for debugging and maintaining the system.\n",
    "   - **Custom Functions** enable users to extend the system by defining their own automation tasks through the API.\n",
    "\n",
    "These enhancements improve the system's flexibility, monitoring, and troubleshooting capabilities.\n"
   ]
  }
 ],
 "metadata": {
  "kernelspec": {
   "display_name": "Python 3 (ipykernel)",
   "language": "python",
   "name": "python3"
  },
  "language_info": {
   "codemirror_mode": {
    "name": "ipython",
    "version": 3
   },
   "file_extension": ".py",
   "mimetype": "text/x-python",
   "name": "python",
   "nbconvert_exporter": "python",
   "pygments_lexer": "ipython3",
   "version": "3.11.5"
  }
 },
 "nbformat": 4,
 "nbformat_minor": 5
}
